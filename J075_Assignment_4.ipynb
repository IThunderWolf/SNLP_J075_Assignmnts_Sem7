{
 "cells": [
  {
   "cell_type": "markdown",
   "id": "b4090039",
   "metadata": {},
   "source": [
    "                                                                NLP ASSIGNMENT - 4"
   ]
  },
  {
   "cell_type": "code",
   "execution_count": 1,
   "id": "846f0210",
   "metadata": {},
   "outputs": [
    {
     "name": "stderr",
     "output_type": "stream",
     "text": [
      "W0907 17:31:06.833000 12544 site-packages\\torch\\distributed\\elastic\\multiprocessing\\redirects.py:29] NOTE: Redirects are currently not supported in Windows or MacOs.\n"
     ]
    },
    {
     "name": "stdout",
     "output_type": "stream",
     "text": [
      "Transformers: 4.37.2\n",
      "Accelerate: 0.27.2\n",
      "Datasets: 2.19.1\n"
     ]
    }
   ],
   "source": [
    "import transformers, accelerate, datasets\n",
    "print(\"Transformers:\", transformers.__version__)\n",
    "print(\"Accelerate:\", accelerate.__version__)\n",
    "print(\"Datasets:\", datasets.__version__)\n",
    "\n"
   ]
  },
  {
   "cell_type": "code",
   "execution_count": null,
   "id": "25f6ae69",
   "metadata": {},
   "outputs": [
    {
     "name": "stdout",
     "output_type": "stream",
     "text": [
      "Using device: cpu\n",
      "Loading IMDB dataset...\n"
     ]
    },
    {
     "data": {
      "application/vnd.jupyter.widget-view+json": {
       "model_id": "76d9fa49b70a4a94a866483a312a7557",
       "version_major": 2,
       "version_minor": 0
      },
      "text/plain": [
       "Downloading readme: 0.00B [00:00, ?B/s]"
      ]
     },
     "metadata": {},
     "output_type": "display_data"
    },
    {
     "name": "stderr",
     "output_type": "stream",
     "text": [
      "c:\\Users\\Yatha\\AppData\\Local\\Programs\\Python\\Python311\\Lib\\site-packages\\huggingface_hub\\file_download.py:945: FutureWarning: `resume_download` is deprecated and will be removed in version 1.0.0. Downloads always resume when possible. If you want to force a new download, use `force_download=True`.\n",
      "  warnings.warn(\n"
     ]
    },
    {
     "name": "stdout",
     "output_type": "stream",
     "text": [
      "\n",
      "--- Fine-tuning and evaluating distilbert-base-uncased ---\n"
     ]
    },
    {
     "name": "stderr",
     "output_type": "stream",
     "text": [
      "Some weights of DistilBertForSequenceClassification were not initialized from the model checkpoint at distilbert-base-uncased and are newly initialized: ['classifier.bias', 'classifier.weight', 'pre_classifier.bias', 'pre_classifier.weight']\n",
      "You should probably TRAIN this model on a down-stream task to be able to use it for predictions and inference.\n"
     ]
    },
    {
     "data": {
      "application/vnd.jupyter.widget-view+json": {
       "model_id": "f11a078883e74933901367bf68b80673",
       "version_major": 2,
       "version_minor": 0
      },
      "text/plain": [
       "Map:   0%|          | 0/5000 [00:00<?, ? examples/s]"
      ]
     },
     "metadata": {},
     "output_type": "display_data"
    },
    {
     "data": {
      "application/vnd.jupyter.widget-view+json": {
       "model_id": "500b5c5d713c4c1a824ea09d9c29c9c2",
       "version_major": 2,
       "version_minor": 0
      },
      "text/plain": [
       "Map:   0%|          | 0/1000 [00:00<?, ? examples/s]"
      ]
     },
     "metadata": {},
     "output_type": "display_data"
    },
    {
     "data": {
      "application/vnd.jupyter.widget-view+json": {
       "model_id": "a21e65a77d654531ba67ceb10bd8898f",
       "version_major": 2,
       "version_minor": 0
      },
      "text/plain": [
       "  0%|          | 0/1250 [00:00<?, ?it/s]"
      ]
     },
     "metadata": {},
     "output_type": "display_data"
    },
    {
     "name": "stderr",
     "output_type": "stream",
     "text": [
      "c:\\Users\\Yatha\\AppData\\Local\\Programs\\Python\\Python311\\Lib\\site-packages\\torch\\utils\\data\\dataloader.py:666: UserWarning: 'pin_memory' argument is set as true but no accelerator is found, then device pinned memory won't be used.\n",
      "  warnings.warn(warn_msg)\n"
     ]
    },
    {
     "name": "stdout",
     "output_type": "stream",
     "text": [
      "{'loss': 0.3965, 'learning_rate': 3e-05, 'epoch': 0.8}\n"
     ]
    },
    {
     "data": {
      "application/vnd.jupyter.widget-view+json": {
       "model_id": "bacbbcccae5d4a8da11b96aace7a0780",
       "version_major": 2,
       "version_minor": 0
      },
      "text/plain": [
       "  0%|          | 0/125 [00:00<?, ?it/s]"
      ]
     },
     "metadata": {},
     "output_type": "display_data"
    },
    {
     "name": "stdout",
     "output_type": "stream",
     "text": [
      "{'eval_loss': 0.28543055057525635, 'eval_f1': 0.8986693961105424, 'eval_accuracy': 0.901, 'eval_runtime': 212.8047, 'eval_samples_per_second': 4.699, 'eval_steps_per_second': 0.587, 'epoch': 1.0}\n"
     ]
    },
    {
     "name": "stderr",
     "output_type": "stream",
     "text": [
      "c:\\Users\\Yatha\\AppData\\Local\\Programs\\Python\\Python311\\Lib\\site-packages\\torch\\utils\\data\\dataloader.py:666: UserWarning: 'pin_memory' argument is set as true but no accelerator is found, then device pinned memory won't be used.\n",
      "  warnings.warn(warn_msg)\n"
     ]
    },
    {
     "name": "stdout",
     "output_type": "stream",
     "text": [
      "{'loss': 0.1817, 'learning_rate': 1e-05, 'epoch': 1.6}\n"
     ]
    },
    {
     "data": {
      "application/vnd.jupyter.widget-view+json": {
       "model_id": "e3c57d87f2a2459389f9772e154d536f",
       "version_major": 2,
       "version_minor": 0
      },
      "text/plain": [
       "  0%|          | 0/125 [00:00<?, ?it/s]"
      ]
     },
     "metadata": {},
     "output_type": "display_data"
    },
    {
     "name": "stdout",
     "output_type": "stream",
     "text": [
      "{'eval_loss': 0.41365498304367065, 'eval_f1': 0.901010101010101, 'eval_accuracy': 0.902, 'eval_runtime': 211.7146, 'eval_samples_per_second': 4.723, 'eval_steps_per_second': 0.59, 'epoch': 2.0}\n",
      "{'train_runtime': 10117.8051, 'train_samples_per_second': 0.988, 'train_steps_per_second': 0.124, 'train_loss': 0.26440618896484375, 'epoch': 2.0}\n"
     ]
    },
    {
     "name": "stderr",
     "output_type": "stream",
     "text": [
      "c:\\Users\\Yatha\\AppData\\Local\\Programs\\Python\\Python311\\Lib\\site-packages\\torch\\utils\\data\\dataloader.py:666: UserWarning: 'pin_memory' argument is set as true but no accelerator is found, then device pinned memory won't be used.\n",
      "  warnings.warn(warn_msg)\n"
     ]
    },
    {
     "data": {
      "application/vnd.jupyter.widget-view+json": {
       "model_id": "f735d9ebcc264c22a551ae7abab239f2",
       "version_major": 2,
       "version_minor": 0
      },
      "text/plain": [
       "  0%|          | 0/125 [00:00<?, ?it/s]"
      ]
     },
     "metadata": {},
     "output_type": "display_data"
    },
    {
     "name": "stdout",
     "output_type": "stream",
     "text": [
      "Evaluation results for distilbert-base-uncased: {'eval_loss': 0.28543055057525635, 'eval_f1': 0.8986693961105424, 'eval_accuracy': 0.901, 'eval_runtime': 216.6654, 'eval_samples_per_second': 4.615, 'eval_steps_per_second': 0.577, 'epoch': 2.0}\n",
      "\n",
      "--- Fine-tuning and evaluating bert-base-uncased ---\n"
     ]
    },
    {
     "name": "stderr",
     "output_type": "stream",
     "text": [
      "c:\\Users\\Yatha\\AppData\\Local\\Programs\\Python\\Python311\\Lib\\site-packages\\huggingface_hub\\file_download.py:945: FutureWarning: `resume_download` is deprecated and will be removed in version 1.0.0. Downloads always resume when possible. If you want to force a new download, use `force_download=True`.\n",
      "  warnings.warn(\n",
      "Some weights of BertForSequenceClassification were not initialized from the model checkpoint at bert-base-uncased and are newly initialized: ['classifier.bias', 'classifier.weight']\n",
      "You should probably TRAIN this model on a down-stream task to be able to use it for predictions and inference.\n"
     ]
    },
    {
     "data": {
      "application/vnd.jupyter.widget-view+json": {
       "model_id": "a3b9ea8244d24de8a4d8bee507131c5c",
       "version_major": 2,
       "version_minor": 0
      },
      "text/plain": [
       "Map:   0%|          | 0/5000 [00:00<?, ? examples/s]"
      ]
     },
     "metadata": {},
     "output_type": "display_data"
    },
    {
     "data": {
      "application/vnd.jupyter.widget-view+json": {
       "model_id": "aa524065a5654aa0bbd49483512a26bb",
       "version_major": 2,
       "version_minor": 0
      },
      "text/plain": [
       "Map:   0%|          | 0/1000 [00:00<?, ? examples/s]"
      ]
     },
     "metadata": {},
     "output_type": "display_data"
    },
    {
     "data": {
      "application/vnd.jupyter.widget-view+json": {
       "model_id": "1337f93f472c4b31bbfbbf2c0cc51699",
       "version_major": 2,
       "version_minor": 0
      },
      "text/plain": [
       "  0%|          | 0/1250 [00:00<?, ?it/s]"
      ]
     },
     "metadata": {},
     "output_type": "display_data"
    },
    {
     "name": "stderr",
     "output_type": "stream",
     "text": [
      "c:\\Users\\Yatha\\AppData\\Local\\Programs\\Python\\Python311\\Lib\\site-packages\\torch\\utils\\data\\dataloader.py:666: UserWarning: 'pin_memory' argument is set as true but no accelerator is found, then device pinned memory won't be used.\n",
      "  warnings.warn(warn_msg)\n"
     ]
    }
   ],
   "source": [
    "import numpy as np\n",
    "import torch\n",
    "from datasets import load_dataset, Dataset\n",
    "from transformers import (\n",
    "    AutoModelForSequenceClassification,\n",
    "    AutoTokenizer,\n",
    "    Trainer,\n",
    "    TrainingArguments,\n",
    "    pipeline,\n",
    ")\n",
    "from sklearn.metrics import f1_score, accuracy_score\n",
    "import random\n",
    "import os\n",
    "\n",
    "# Define a custom metric computation function\n",
    "# The Trainer API requires a function that takes EvalPrediction and returns a dictionary\n",
    "def compute_metrics(eval_pred):\n",
    "    \"\"\"\n",
    "    Computes accuracy and F1 score for model evaluation.\n",
    "    \n",
    "    Args:\n",
    "        eval_pred (EvalPrediction): A tuple containing model predictions and true labels.\n",
    "    \n",
    "    Returns:\n",
    "        dict: A dictionary with 'accuracy' and 'f1' scores.\n",
    "    \"\"\"\n",
    "    logits, labels = eval_pred\n",
    "    predictions = np.argmax(logits, axis=-1)\n",
    "    f1 = f1_score(labels, predictions, average='binary')\n",
    "    accuracy = accuracy_score(labels, predictions)\n",
    "    return {\"f1\": f1, \"accuracy\": accuracy}\n",
    "\n",
    "def tokenize_function(examples, tokenizer):\n",
    "    \"\"\"\n",
    "    Tokenizes a batch of text examples.\n",
    "    \"\"\"\n",
    "    return tokenizer(examples[\"text\"], padding=\"max_length\", truncation=True)\n",
    "\n",
    "def finetune_and_evaluate(model_name, dataset, tokenizer, training_args, subset_size=None):\n",
    "    \"\"\"\n",
    "    Fine-tunes and evaluates a model on a given dataset.\n",
    "    \n",
    "    Args:\n",
    "        model_name (str): The name of the model from the Hugging Face Hub.\n",
    "        dataset (DatasetDict): The dataset to use for training and evaluation.\n",
    "        tokenizer (PreTrainedTokenizer): The tokenizer to use.\n",
    "        training_args (TrainingArguments): The training arguments.\n",
    "        subset_size (int, optional): The number of examples to use for the subset.\n",
    "                                     If None, uses the full dataset.\n",
    "    \n",
    "    Returns:\n",
    "        dict: A dictionary containing the evaluation metrics.\n",
    "    \"\"\"\n",
    "    print(f\"\\n--- Fine-tuning and evaluating {model_name} ---\")\n",
    "    \n",
    "    # Load the model for sequence classification\n",
    "    try:\n",
    "        model = AutoModelForSequenceClassification.from_pretrained(\n",
    "            model_name, num_labels=2,\n",
    "            ignore_mismatched_sizes=True\n",
    "        )\n",
    "    except Exception as e:\n",
    "        print(f\"Could not load model {model_name}. Skipping. Error: {e}\")\n",
    "        return {\"f1\": 0, \"accuracy\": 0}\n",
    "        \n",
    "    # Prepare the subset if specified\n",
    "    if subset_size:\n",
    "        train_dataset = dataset[\"train\"].shuffle(seed=42).select(range(subset_size))\n",
    "        eval_dataset = dataset[\"test\"].shuffle(seed=42).select(range(int(subset_size * 0.2)))\n",
    "    else:\n",
    "        train_dataset = dataset[\"train\"]\n",
    "        eval_dataset = dataset[\"test\"]\n",
    "\n",
    "    # Tokenize the datasets\n",
    "    tokenized_train_dataset = train_dataset.map(lambda examples: tokenize_function(examples, tokenizer), batched=True)\n",
    "    tokenized_eval_dataset = eval_dataset.map(lambda examples: tokenize_function(examples, tokenizer), batched=True)\n",
    "\n",
    "    # Initialize the Trainer\n",
    "    trainer = Trainer(\n",
    "        model=model,\n",
    "        args=training_args,\n",
    "        train_dataset=tokenized_train_dataset,\n",
    "        eval_dataset=tokenized_eval_dataset,\n",
    "        compute_metrics=compute_metrics,\n",
    "        tokenizer=tokenizer,\n",
    "    )\n",
    "    \n",
    "    # Train the model\n",
    "    trainer.train()\n",
    "    \n",
    "    # Evaluate the model\n",
    "    eval_results = trainer.evaluate()\n",
    "    print(f\"Evaluation results for {model_name}: {eval_results}\")\n",
    "    \n",
    "    return eval_results\n",
    "\n",
    "def main():\n",
    "    # Set up device\n",
    "    device = torch.device(\"cuda\" if torch.cuda.is_available() else \"cpu\")\n",
    "    print(f\"Using device: {device}\")\n",
    "\n",
    "    # Step 1: Load the dataset\n",
    "    print(\"Loading IMDB dataset...\")\n",
    "    imdb_dataset = load_dataset(\"imdb\")\n",
    "\n",
    "    # Step 2: Define models to test and their tokenizers\n",
    "    models_to_test = {\n",
    "        \"distilbert-base-uncased\": AutoTokenizer.from_pretrained(\"distilbert-base-uncased\"),\n",
    "        \"bert-base-uncased\": AutoTokenizer.from_pretrained(\"bert-base-uncased\"),\n",
    "        \"roberta-base\": AutoTokenizer.from_pretrained(\"roberta-base\"),\n",
    "        \"google/electra-small-discriminator\": AutoTokenizer.from_pretrained(\"google/electra-small-discriminator\"),\n",
    "        \"GTE-small\": AutoTokenizer.from_pretrained(\"TaylorAI/gte-tiny\"),\n",
    "    }\n",
    "    \n",
    "    # Define training arguments for the subset fine-tuning\n",
    "    subset_train_args = TrainingArguments(\n",
    "        output_dir=\"./subset_results\",\n",
    "        evaluation_strategy=\"epoch\",\n",
    "        per_device_train_batch_size=8,\n",
    "        per_device_eval_batch_size=8,\n",
    "        num_train_epochs=2,\n",
    "        weight_decay=0.01,\n",
    "        logging_dir='./subset_logs',\n",
    "        save_strategy=\"epoch\",\n",
    "        load_best_model_at_end=True,\n",
    "    )\n",
    "\n",
    "    # Step 3: Fine-tune and evaluate models on a subset\n",
    "    subset_results = {}\n",
    "    subset_size = 5000  # Use a subset of 5000 examples\n",
    "    \n",
    "    for model_name, tokenizer in models_to_test.items():\n",
    "        results = finetune_and_evaluate(model_name, imdb_dataset, tokenizer, subset_train_args, subset_size)\n",
    "        subset_results[model_name] = results\n",
    "    \n",
    "    # Find the best model based on F1 score\n",
    "    best_model_name = max(subset_results, key=lambda k: subset_results[k].get(\"eval_f1\", 0))\n",
    "    print(f\"\\n--- Best model from subset fine-tuning is: {best_model_name} with F1 score: {subset_results[best_model_name].get('eval_f1')} ---\")\n",
    "\n",
    "    # Step 4: Fine-tune the best model on the entire dataset\n",
    "    print(f\"\\n--- Fine-tuning {best_model_name} on the entire dataset ---\")\n",
    "    \n",
    "    # Define training arguments for full dataset fine-tuning\n",
    "    full_train_args = TrainingArguments(\n",
    "        output_dir=f\"./full_dataset_results_{best_model_name.replace('/', '_')}\",\n",
    "        evaluation_strategy=\"epoch\",\n",
    "        per_device_train_batch_size=8,\n",
    "        per_device_eval_batch_size=8,\n",
    "        num_train_epochs=3,\n",
    "        weight_decay=0.01,\n",
    "        logging_dir='./full_dataset_logs',\n",
    "        save_strategy=\"epoch\",\n",
    "        load_best_model_at_end=True,\n",
    "    )\n",
    "\n",
    "    # Load the tokenizer for the best model\n",
    "    best_model_tokenizer = models_to_test[best_model_name]\n",
    "\n",
    "    # Perform the final fine-tuning\n",
    "    finetune_and_evaluate(best_model_name, imdb_dataset, best_model_tokenizer, full_train_args)\n",
    "\n",
    "    # Step 5: Inference on 10 random samples\n",
    "    print(\"\\n--- Running inference on 10 random samples from the test set ---\")\n",
    "    \n",
    "    # Load the fine-tuned model for inference\n",
    "    inference_model_path = full_train_args.output_dir\n",
    "    final_model = AutoModelForSequenceClassification.from_pretrained(inference_model_path)\n",
    "    final_tokenizer = best_model_tokenizer\n",
    "\n",
    "    # Create a text classification pipeline\n",
    "    classifier = pipeline(\n",
    "        \"text-classification\",\n",
    "        model=final_model,\n",
    "        tokenizer=final_tokenizer,\n",
    "        device=0 if torch.cuda.is_available() else -1,\n",
    "        return_all_scores=False\n",
    "    )\n",
    "    \n",
    "    # Get 10 random samples from the test set\n",
    "    test_samples = imdb_dataset[\"test\"].shuffle(seed=42).select(range(10))\n",
    "    \n",
    "    label_map = {0: \"Negative\", 1: \"Positive\"}\n",
    "    \n",
    "    for i, sample in enumerate(test_samples):\n",
    "        review = sample[\"text\"]\n",
    "        true_label = label_map[sample[\"label\"]]\n",
    "        \n",
    "        # Run inference\n",
    "        prediction = classifier(review)[0]\n",
    "        predicted_label = prediction['label']\n",
    "        confidence = prediction['score']\n",
    "\n",
    "        print(f\"\\n--- Review {i+1} ---\")\n",
    "        print(f\"Review: {review[:200]}...\")\n",
    "        print(f\"True Label: {true_label}\")\n",
    "        print(f\"Predicted Label: {predicted_label} (Confidence: {confidence:.4f})\")\n",
    "\n",
    "if __name__ == \"__main__\":\n",
    "    main()"
   ]
  },
  {
   "cell_type": "code",
   "execution_count": null,
   "id": "26f6e4cb",
   "metadata": {},
   "outputs": [],
   "source": []
  }
 ],
 "metadata": {
  "kernelspec": {
   "display_name": "Python 3",
   "language": "python",
   "name": "python3"
  },
  "language_info": {
   "codemirror_mode": {
    "name": "ipython",
    "version": 3
   },
   "file_extension": ".py",
   "mimetype": "text/x-python",
   "name": "python",
   "nbconvert_exporter": "python",
   "pygments_lexer": "ipython3",
   "version": "3.11.5"
  }
 },
 "nbformat": 4,
 "nbformat_minor": 5
}
