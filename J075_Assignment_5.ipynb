{
 "cells": [
  {
   "cell_type": "markdown",
   "id": "ca7f18d5",
   "metadata": {},
   "source": [
    "                                                NLP ASSIGNMENT - 5"
   ]
  },
  {
   "cell_type": "markdown",
   "id": "16f64807",
   "metadata": {},
   "source": [
    "TASK - 1"
   ]
  },
  {
   "cell_type": "code",
   "execution_count": 34,
   "id": "147de022",
   "metadata": {},
   "outputs": [
    {
     "name": "stdout",
     "output_type": "stream",
     "text": [
      "Resolved queries columns: ['Query_ID', 'Pre_Resolved_Query']\n",
      "New queries columns: ['Variation_Query', 'Matches_With_Query_ID']\n",
      "\n",
      "Sample resolved data:\n",
      "   Query_ID                    Pre_Resolved_Query\n",
      "0         1     Unable to connect to the internet\n",
      "1         2        Payment failed during checkout\n",
      "2         3     App crashes when opening settings\n",
      "3         4   Forgot password and unable to reset\n",
      "4         5  Unable to upload files to the server\n",
      "\n",
      "Sample new data:\n",
      "                             Variation_Query  Matches_With_Query_ID\n",
      "0           Unabel to conect to the internet                      1\n",
      "1                  Can’t connect to internet                      1\n",
      "2                        Intenet not working                      1\n",
      "3               Payment failed while chekout                      2\n",
      "4  Payment did not go through during chckout                      2\n"
     ]
    }
   ],
   "source": [
    "import pandas as pd\n",
    "\n",
    "resolved = pd.read_csv(\"resolved_queries.csv\")\n",
    "new_queries = pd.read_csv(\"new_queries.csv\")\n",
    "\n",
    "print(\"Resolved queries columns:\", resolved.columns.tolist())\n",
    "print(\"New queries columns:\", new_queries.columns.tolist())\n",
    "\n",
    "print(\"\\nSample resolved data:\")\n",
    "print(resolved.head())\n",
    "\n",
    "print(\"\\nSample new data:\")\n",
    "print(new_queries.head())\n"
   ]
  },
  {
   "cell_type": "code",
   "execution_count": 35,
   "id": "0d1b32ca",
   "metadata": {},
   "outputs": [
    {
     "name": "stdout",
     "output_type": "stream",
     "text": [
      "Fuzzy Matching Results:\n",
      "                             variation_query  \\\n",
      "0           unabel to conect to the internet   \n",
      "1                  can’t connect to internet   \n",
      "2                        intenet not working   \n",
      "3               payment failed while chekout   \n",
      "4  payment did not go through during chckout   \n",
      "\n",
      "                    matched_resolved  fuzzy_score  \n",
      "0  unable to connect to the internet    95.384615  \n",
      "1                               None    65.517241  \n",
      "2                               None    46.153846  \n",
      "3                               None    75.862069  \n",
      "4                               None    64.788732  \n",
      "Cosine Similarity Results:\n",
      "                             variation_query  \\\n",
      "0           unabel to conect to the internet   \n",
      "1                  can’t connect to internet   \n",
      "2                        intenet not working   \n",
      "3               payment failed while chekout   \n",
      "4  payment did not go through during chckout   \n",
      "\n",
      "                    matched_resolved  cosine_score  \n",
      "0  unable to connect to the internet      0.256410  \n",
      "1  unable to connect to the internet      0.858168  \n",
      "2  unable to connect to the internet      0.000000  \n",
      "3     payment failed during checkout      0.558907  \n",
      "4     payment failed during checkout      0.219802  \n"
     ]
    }
   ],
   "source": [
    "# --- Task 1: Match new queries with resolved queries ---\n",
    "import pandas as pd\n",
    "from rapidfuzz import process, fuzz\n",
    "from sklearn.feature_extraction.text import TfidfVectorizer\n",
    "from sklearn.metrics.pairwise import cosine_similarity\n",
    "\n",
    "# Load datasets\n",
    "resolved = pd.read_csv(\"resolved_queries.csv\")\n",
    "new_queries = pd.read_csv(\"new_queries.csv\")\n",
    "\n",
    "# Normalize text\n",
    "resolved['clean_query'] = resolved['Pre_Resolved_Query'].str.lower().str.strip()\n",
    "new_queries['clean_query'] = new_queries['Variation_Query'].str.lower().str.strip()\n",
    "\n",
    "# -------------------\n",
    "# 1. FUZZY SEARCH\n",
    "# -------------------\n",
    "def fuzzy_match(query, choices, scorer=fuzz.token_sort_ratio, threshold=80):\n",
    "    match, score, idx = process.extractOne(query, choices, scorer=scorer)\n",
    "    if score >= threshold:\n",
    "        return match, score\n",
    "    else:\n",
    "        return None, score\n",
    "\n",
    "fuzzy_results = []\n",
    "for q in new_queries['clean_query']:\n",
    "    match, score = fuzzy_match(q, resolved['clean_query'], threshold=80)\n",
    "    fuzzy_results.append((q, match, score))\n",
    "\n",
    "fuzzy_df = pd.DataFrame(fuzzy_results, columns=[\"variation_query\", \"matched_resolved\", \"fuzzy_score\"])\n",
    "print(\"Fuzzy Matching Results:\")\n",
    "print(fuzzy_df.head())\n",
    "\n",
    "# -------------------\n",
    "# 2. TF-IDF + COSINE SIMILARITY\n",
    "# -------------------\n",
    "# Vectorize with TF-IDF\n",
    "vectorizer = TfidfVectorizer(stop_words=\"english\")\n",
    "tfidf_matrix = vectorizer.fit_transform(\n",
    "    list(new_queries['clean_query']) + list(resolved['clean_query'])\n",
    ")\n",
    "\n",
    "new_matrix = tfidf_matrix[:len(new_queries)]\n",
    "resolved_matrix = tfidf_matrix[len(new_queries):]\n",
    "\n",
    "# Compute cosine similarity\n",
    "cosine_sim = cosine_similarity(new_matrix, resolved_matrix)\n",
    "\n",
    "# For each new query, find the best resolved query\n",
    "cosine_results = []\n",
    "for i, q in enumerate(new_queries['clean_query']):\n",
    "    best_idx = cosine_sim[i].argmax()\n",
    "    best_score = cosine_sim[i][best_idx]\n",
    "    cosine_results.append((q, resolved['clean_query'].iloc[best_idx], best_score))\n",
    "\n",
    "cosine_df = pd.DataFrame(cosine_results, columns=[\"variation_query\", \"matched_resolved\", \"cosine_score\"])\n",
    "print(\"Cosine Similarity Results:\")\n",
    "print(cosine_df.head())\n"
   ]
  },
  {
   "cell_type": "markdown",
   "id": "b1708c1c",
   "metadata": {},
   "source": [
    "TASK - 2"
   ]
  },
  {
   "cell_type": "code",
   "execution_count": 37,
   "id": "90f7af17",
   "metadata": {},
   "outputs": [
    {
     "name": "stdout",
     "output_type": "stream",
     "text": [
      "Base names columns: ['Base_Name_ID', 'Base_Name']\n",
      "Name variations columns: ['Variation', 'Matches_With_Base_Name']\n",
      "\n",
      "Sample base_names data:\n",
      "   Base_Name_ID         Base_Name\n",
      "0             1        John Smith\n",
      "1             2    Jennifer Brown\n",
      "2             3  Michael O'Connor\n",
      "3             4      Maria Garcia\n",
      "4             5        Robert Lee\n",
      "\n",
      "Sample name_variations data:\n",
      "      Variation Matches_With_Base_Name\n",
      "0  Thomas  King            Thomas King\n",
      "1    ThomasKing            Thomas King\n",
      "2  Maria Garcia           Maria Garcia\n",
      "3     MaryLewis             Mary Lewis\n",
      "4      Nancy W.           Nancy Wright\n"
     ]
    }
   ],
   "source": [
    "import pandas as pd\n",
    "\n",
    "base_names = pd.read_csv(\"base_names.csv\")\n",
    "name_variations = pd.read_csv(\"name_variations.csv\")\n",
    "\n",
    "print(\"Base names columns:\", base_names.columns.tolist())\n",
    "print(\"Name variations columns:\", name_variations.columns.tolist())\n",
    "\n",
    "print(\"\\nSample base_names data:\")\n",
    "print(base_names.head())\n",
    "\n",
    "print(\"\\nSample name_variations data:\")\n",
    "print(name_variations.head())\n"
   ]
  },
  {
   "cell_type": "code",
   "execution_count": 38,
   "id": "5cafbc04",
   "metadata": {},
   "outputs": [
    {
     "name": "stdout",
     "output_type": "stream",
     "text": [
      "Name Matching Results:\n",
      "  name_variation  matched_base       score\n",
      "0    thomas king   thomas king  100.000000\n",
      "1     thomasking          None   57.142857\n",
      "2   maria garcia  maria garcia  100.000000\n",
      "3      marylewis          None   52.631579\n",
      "4       nancy w.          None   70.000000\n"
     ]
    }
   ],
   "source": [
    "# --- Task 2: Match Names ---\n",
    "import pandas as pd\n",
    "from rapidfuzz import process, fuzz\n",
    "\n",
    "# Load datasets\n",
    "base_names = pd.read_csv(\"base_names.csv\")\n",
    "name_variations = pd.read_csv(\"name_variations.csv\")\n",
    "\n",
    "# Normalize function\n",
    "def clean_name(name):\n",
    "    name = str(name).lower().strip()\n",
    "    name = name.replace(\",\", \"\")   # remove commas\n",
    "    name = \" \".join(name.split())  # remove extra spaces\n",
    "    return name\n",
    "\n",
    "base_names['clean'] = base_names['Base_Name'].apply(clean_name)\n",
    "name_variations['clean'] = name_variations['Variation'].apply(clean_name)\n",
    "\n",
    "# Function to match variations to base names\n",
    "def match_names(name, choices, threshold=85):\n",
    "    match, score, idx = process.extractOne(name, choices, scorer=fuzz.token_sort_ratio)\n",
    "    if score >= threshold:\n",
    "        return match, score\n",
    "    else:\n",
    "        return None, score\n",
    "\n",
    "name_results = []\n",
    "for n in name_variations['clean']:\n",
    "    match, score = match_names(n, base_names['clean'], threshold=85)\n",
    "    name_results.append((n, match, score))\n",
    "\n",
    "names_df = pd.DataFrame(name_results, columns=[\"name_variation\", \"matched_base\", \"score\"])\n",
    "print(\"Name Matching Results:\")\n",
    "print(names_df.head())\n",
    "\n",
    "# Optional: Save results\n",
    "names_df.to_csv(\"name_matches.csv\", index=False)\n"
   ]
  },
  {
   "cell_type": "code",
   "execution_count": null,
   "id": "24a5ce88",
   "metadata": {},
   "outputs": [],
   "source": []
  }
 ],
 "metadata": {
  "kernelspec": {
   "display_name": "Python 3",
   "language": "python",
   "name": "python3"
  },
  "language_info": {
   "codemirror_mode": {
    "name": "ipython",
    "version": 3
   },
   "file_extension": ".py",
   "mimetype": "text/x-python",
   "name": "python",
   "nbconvert_exporter": "python",
   "pygments_lexer": "ipython3",
   "version": "3.11.5"
  }
 },
 "nbformat": 4,
 "nbformat_minor": 5
}
